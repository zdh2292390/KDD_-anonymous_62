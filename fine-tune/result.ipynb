{
 "cells": [
  {
   "cell_type": "code",
   "execution_count": 1,
   "metadata": {
    "scrolled": true
   },
   "outputs": [
    {
     "name": "stdout",
     "output_type": "stream",
     "text": [
      "rqa : ebert amazon metric 0 48.72\n",
      "rqa : ebert amazon metric 1 64.66\n",
      "rqa : ebert amazon metric 2 69.55\n",
      "rqa : ebert amazon metric 3 68.75\n",
      "ae : ebert amazon metric 0 86.63\n",
      "ae : ebert amazon metric 1 87.16\n",
      "ae : ebert amazon metric 2 86.89\n",
      "asc : ebert amazon metric 0 88.94\n",
      "asc : ebert amazon metric 1 68.87\n",
      "pc : ebert amazon metric 0 78.74\n",
      "pc : ebert amazon metric 1 90.37\n",
      "pc : ebert amazon metric 2 90.94\n"
     ]
    }
   ],
   "source": [
    "tasks=[\"rqa\", \"ae\", \"asc\", \"pc\"]\n",
    "# tasks = [\"asc\"]\n",
    "berts=[\"ebert\"]\n",
    "domains=['amazon']\n",
    "runs=10\n",
    "%run eval/eval.ipynb"
   ]
  },
  {
   "cell_type": "code",
   "execution_count": null,
   "metadata": {},
   "outputs": [],
   "source": []
  },
  {
   "cell_type": "code",
   "execution_count": null,
   "metadata": {},
   "outputs": [],
   "source": []
  },
  {
   "cell_type": "code",
   "execution_count": null,
   "metadata": {},
   "outputs": [],
   "source": []
  }
 ],
 "metadata": {
  "kernelspec": {
   "display_name": "Python 3",
   "language": "python",
   "name": "python3"
  },
  "language_info": {
   "codemirror_mode": {
    "name": "ipython",
    "version": 3
   },
   "file_extension": ".py",
   "mimetype": "text/x-python",
   "name": "python",
   "nbconvert_exporter": "python",
   "pygments_lexer": "ipython3",
   "version": "3.6.10"
  }
 },
 "nbformat": 4,
 "nbformat_minor": 2
}
