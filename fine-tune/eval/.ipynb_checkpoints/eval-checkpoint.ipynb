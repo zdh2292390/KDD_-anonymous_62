{
 "cells": [
  {
   "cell_type": "code",
   "execution_count": null,
   "metadata": {},
   "outputs": [],
   "source": [
    "import json\n",
    "import os\n",
    "import sklearn.metrics\n",
    "import numpy as np\n",
    "import copy\n",
    "from sklearn.preprocessing import MultiLabelBinarizer\n"
   ]
  },
  {
   "cell_type": "code",
   "execution_count": 1,
   "metadata": {},
   "outputs": [],
   "source": [
    "def evaluate(tasks, berts, domains, runs=10):\n",
    "    for task in tasks:\n",
    "        for bert in berts:\n",
    "            for domain in domains:            \n",
    "                scores=[]\n",
    "                for run in range(1, runs+1):\n",
    "                    DATA_DIR=os.path.join('data',task)\n",
    "                    OUTPUT_DIR=os.path.join(\"testing_results\", task, str(run) )\n",
    "                    if os.path.exists(os.path.join(OUTPUT_DIR, \"predictions.json\") ):\n",
    "                        if \"rqa\" in task:\n",
    "                            ret=!python eval/evaluate-v1.1.py $DATA_DIR/test.json $OUTPUT_DIR/predictions.json\n",
    "                            score=json.loads(ret[0])\n",
    "                            scores.append([score[\"exact_match\"], score[\"f1\"], score[\"precision\"], score[\"recall\"]])\n",
    "                        elif \"ae\" in task:\n",
    "                            ret=!python eval/evaluate_ae.py --pred_json $OUTPUT_DIR/predictions.json\n",
    "                            ret = [v.strip() for v in ret[0][1:-1].split(',')]\n",
    "                            scores.append([float(ret[0])*100, float(ret[1])*100, float(ret[2])*100])\n",
    "                            # prec, rec, f1\n",
    "                        elif \"asc\" in task:\n",
    "                            with open(os.path.join(OUTPUT_DIR, \"predictions.json\") ) as f:\n",
    "                                results=json.load(f)\n",
    "                            y_true=results['label_ids']\n",
    "                            y_pred=[np.argmax(logit) for logit in results['logits'] ]\n",
    "                            p_macro, r_macro, f_macro, _=sklearn.metrics.precision_recall_fscore_support(y_true, y_pred, average='macro')\n",
    "                            scores.append([100*sklearn.metrics.accuracy_score(y_true, y_pred), 100*f_macro])\n",
    "                        elif \"pc\" in task:\n",
    "                            with open(os.path.join(OUTPUT_DIR, \"predictions.json\") ) as f:\n",
    "                                results=json.load(f)\n",
    "                            y_true= np.array(results['label_ids'])\n",
    "                            y_pred = []\n",
    "                            acc = []\n",
    "                            cnt = 0\n",
    "                            for logit in results['logits']:\n",
    "                                max_v = max(logit)\n",
    "                                l = []\n",
    "                                for value in logit:\n",
    "                                    if value == max_v:\n",
    "                                        l.append(1.0)\n",
    "                                    else:\n",
    "                                        l.append(0.0)\n",
    "                                y_pred.append(l)\n",
    "                                acc += [1] if all(l == y_true[cnt]) else [0]\n",
    "                                cnt += 1\n",
    "                            \n",
    "                            \n",
    "                            y_pred = np.array(y_pred)\n",
    "                            acc=sum(acc)/len(acc)\n",
    "                            mif1=sklearn.metrics.f1_score(y_true, y_pred, average='micro')\n",
    "                            maf1=[]\n",
    "                            for i in range(y_pred.shape[1]):\n",
    "#                               print(sklearn.metrics.f1_score(y_true[:,i], y_pred[:, i], average='macro'), sum(y_true[:,i]== y_pred[:, i]))\n",
    "                                maf1.append(sklearn.metrics.f1_score(y_true[:,i], y_pred[:, i], average='macro'))\n",
    "                            maf1=sum(maf1)/len(maf1)\n",
    "                            scores.append([100*acc, 100*mif1, 100*maf1])\n",
    "                        else:\n",
    "                            raise Exception(\"unknown task\")\n",
    "                scores=np.array(scores)\n",
    "                m=scores.mean(axis=0)\n",
    "                \n",
    "                if len(scores.shape)>1:\n",
    "                    for iz, score in enumerate(m):\n",
    "                        print(task, \":\", bert, domain, \"metric\", iz, round(score, 2) )\n",
    "                else:\n",
    "                    print(task, \":\", bert, domain, round(m,2) )\n",
    "                print"
   ]
  },
  {
   "cell_type": "code",
   "execution_count": 6,
   "metadata": {},
   "outputs": [
    {
     "ename": "NameError",
     "evalue": "name 'tasks' is not defined",
     "output_type": "error",
     "traceback": [
      "\u001b[0;31m---------------------------------------------------------------------------\u001b[0m",
      "\u001b[0;31mNameError\u001b[0m                                 Traceback (most recent call last)",
      "\u001b[0;32m<ipython-input-6-b89e42052037>\u001b[0m in \u001b[0;36m<module>\u001b[0;34m\u001b[0m\n\u001b[0;32m----> 1\u001b[0;31m \u001b[0mevaluate\u001b[0m\u001b[0;34m(\u001b[0m\u001b[0mtasks\u001b[0m\u001b[0;34m,\u001b[0m \u001b[0mberts\u001b[0m\u001b[0;34m,\u001b[0m \u001b[0mdomains\u001b[0m\u001b[0;34m,\u001b[0m \u001b[0mruns\u001b[0m\u001b[0;34m)\u001b[0m\u001b[0;34m\u001b[0m\u001b[0;34m\u001b[0m\u001b[0m\n\u001b[0m",
      "\u001b[0;31mNameError\u001b[0m: name 'tasks' is not defined"
     ]
    }
   ],
   "source": [
    "evaluate(tasks, berts, domains, runs)"
   ]
  },
  {
   "cell_type": "code",
   "execution_count": null,
   "metadata": {},
   "outputs": [],
   "source": []
  }
 ],
 "metadata": {
  "kernelspec": {
   "display_name": "Python 3",
   "language": "python",
   "name": "python3"
  },
  "language_info": {
   "codemirror_mode": {
    "name": "ipython",
    "version": 3
   },
   "file_extension": ".py",
   "mimetype": "text/x-python",
   "name": "python",
   "nbconvert_exporter": "python",
   "pygments_lexer": "ipython3",
   "version": "3.7.3"
  }
 },
 "nbformat": 4,
 "nbformat_minor": 2
}
